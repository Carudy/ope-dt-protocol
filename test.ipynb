{
 "cells": [
  {
   "cell_type": "code",
   "execution_count": 1,
   "metadata": {},
   "outputs": [],
   "source": [
    "import random\n",
    "import nacl.encoding\n",
    "import nacl.hash\n",
    "\n",
    "from utils import *\n",
    "from ore import *\n",
    "from bplustree import *\n",
    "from node import *\n",
    "from read_data import *\n",
    "from dtree import *\n",
    "from mpc import sim_mpc_n\n",
    "from he import sim_he_n\n",
    "from rf import *\n",
    "\n",
    "from sklearn.ensemble import RandomForestClassifier\n",
    "from sklearn.tree import DecisionTreeClassifier"
   ]
  },
  {
   "cell_type": "code",
   "execution_count": 2,
   "metadata": {},
   "outputs": [],
   "source": [
    "def test_ore_encoding_ore():\n",
    "    ore = ORE(key='123')\n",
    "    A = sorted([random.randint(-434531, 43454) for _ in range(100)])\n",
    "    B = [scale_val(x) for x in A]\n",
    "    C = [ore.encode(x) for x in B]\n",
    "    co = Coordinator()\n",
    "    co.receive_keys(C[:50], C[50:])\n",
    "    co.mp_map.update(co.do_map)\n",
    "    d = co.mp_map.copy()\n",
    "\n",
    "    for i in range(len(C)):\n",
    "        for j in range(i):\n",
    "            x, y = OREncoding(d[C[j].x]), OREncoding(d[C[i].x])\n",
    "            a = ore.compare(C[j], C[i])\n",
    "            b = ore.compare(x, y)\n",
    "            if a != -1 or a != b:\n",
    "                print(i, j)"
   ]
  },
  {
   "cell_type": "code",
   "execution_count": 3,
   "metadata": {},
   "outputs": [],
   "source": [
    "def simulate():\n",
    "    co = Coordinator()\n",
    "    do = DataOwner()\n",
    "    mp = ModelProvider()\n",
    "    mp.train_model()\n",
    "\n",
    "    key_0 = str(random.randint(0, 1000))\n",
    "    do.ore.key = key_0\n",
    "    mp.ore.key = key_0\n",
    "    do_encs = do.get_encodings()\n",
    "    mp_encs = mp.get_encodings()\n",
    "    co.receive_keys(mp_arr=mp_encs, do_arr=do_encs)\n",
    "\n",
    "    mp.receive_map(co.mp_map)\n",
    "    do.receive_map(co.do_map)\n",
    "\n",
    "    enc_dataset = []\n",
    "    for sample in do.dataset:\n",
    "        _s = sample[:]\n",
    "        for i in range(len(_s)-1):\n",
    "            _v = do.ore.encode(scale_val(_s[i])).x\n",
    "            _s[i] = OREncoding(do.ore_map[_v])\n",
    "        enc_dataset.append(_s)\n",
    "\n",
    "    ys = [x[-1] for x in enc_dataset]\n",
    "    pred = mp.model.predict(enc_dataset)\n",
    "    print(f'ACC: {accuracy_score(pred, ys) * 100:.2f}%')\n",
    "\n",
    "# simulate()"
   ]
  },
  {
   "cell_type": "code",
   "execution_count": 4,
   "metadata": {},
   "outputs": [
    {
     "data": {
      "application/vnd.jupyter.widget-view+json": {
       "model_id": "f2825d73427545758333956a1a214b4d",
       "version_major": 2,
       "version_minor": 0
      },
      "text/plain": [
       "  0%|          | 0/74 [00:00<?, ?it/s]"
      ]
     },
     "metadata": {},
     "output_type": "display_data"
    },
    {
     "data": {
      "application/vnd.jupyter.widget-view+json": {
       "model_id": "c613cd09d85f416ea9c796b6e173183e",
       "version_major": 2,
       "version_minor": 0
      },
      "text/plain": [
       "  0%|          | 0/82 [00:00<?, ?it/s]"
      ]
     },
     "metadata": {},
     "output_type": "display_data"
    },
    {
     "name": "stdout",
     "output_type": "stream",
     "text": [
      "All data inserted into tree.\n",
      "All data mapped to encoding.\n"
     ]
    },
    {
     "ename": "AttributeError",
     "evalue": "attribute 'threshold' of 'sklearn.tree._tree.Tree' objects is not writable",
     "output_type": "error",
     "traceback": [
      "\u001b[0;31m---------------------------------------------------------------------------\u001b[0m",
      "\u001b[0;31mAttributeError\u001b[0m                            Traceback (most recent call last)",
      "\u001b[1;32m/home/hzy/py/ope-dt-protocol/test.ipynb Cell 4\u001b[0m in \u001b[0;36m<cell line: 19>\u001b[0;34m()\u001b[0m\n\u001b[1;32m     <a href='vscode-notebook-cell://ssh-remote%2Bzj0/home/hzy/py/ope-dt-protocol/test.ipynb#W3sdnNjb2RlLXJlbW90ZQ%3D%3D?line=15'>16</a>\u001b[0m st \u001b[39m=\u001b[39m time\u001b[39m.\u001b[39mtime()\n\u001b[1;32m     <a href='vscode-notebook-cell://ssh-remote%2Bzj0/home/hzy/py/ope-dt-protocol/test.ipynb#W3sdnNjb2RlLXJlbW90ZQ%3D%3D?line=16'>17</a>\u001b[0m co\u001b[39m.\u001b[39mreceive_keys(mp_arr\u001b[39m=\u001b[39mmp_encs, do_arr\u001b[39m=\u001b[39mdo_encs)\n\u001b[0;32m---> <a href='vscode-notebook-cell://ssh-remote%2Bzj0/home/hzy/py/ope-dt-protocol/test.ipynb#W3sdnNjb2RlLXJlbW90ZQ%3D%3D?line=18'>19</a>\u001b[0m mp\u001b[39m.\u001b[39;49mreceive_map(co\u001b[39m.\u001b[39;49mmp_map)\n\u001b[1;32m     <a href='vscode-notebook-cell://ssh-remote%2Bzj0/home/hzy/py/ope-dt-protocol/test.ipynb#W3sdnNjb2RlLXJlbW90ZQ%3D%3D?line=19'>20</a>\u001b[0m do\u001b[39m.\u001b[39mreceive_map(co\u001b[39m.\u001b[39mdo_map)\n",
      "File \u001b[0;32m~/py/ope-dt-protocol/node.py:85\u001b[0m, in \u001b[0;36mModelProvider.receive_map\u001b[0;34m(self, ore_map)\u001b[0m\n\u001b[1;32m     83\u001b[0m \u001b[39mdef\u001b[39;00m \u001b[39mreceive_map\u001b[39m(\u001b[39mself\u001b[39m, ore_map):\n\u001b[1;32m     84\u001b[0m     \u001b[39mself\u001b[39m\u001b[39m.\u001b[39more_map \u001b[39m=\u001b[39m ore_map\n\u001b[0;32m---> 85\u001b[0m     \u001b[39mself\u001b[39;49m\u001b[39m.\u001b[39;49mtrans_model()\n",
      "File \u001b[0;32m~/py/ope-dt-protocol/node.py:75\u001b[0m, in \u001b[0;36mModelProvider.trans_model\u001b[0;34m(self)\u001b[0m\n\u001b[1;32m     73\u001b[0m \u001b[39mdef\u001b[39;00m \u001b[39mtrans_model\u001b[39m(\u001b[39mself\u001b[39m):\n\u001b[1;32m     74\u001b[0m     model \u001b[39m=\u001b[39m \u001b[39mself\u001b[39m\u001b[39m.\u001b[39mmodel\u001b[39m.\u001b[39mtree_\n\u001b[0;32m---> 75\u001b[0m     model\u001b[39m.\u001b[39mthreshold \u001b[39m=\u001b[39m model\u001b[39m.\u001b[39mthreshold\u001b[39m.\u001b[39mtolist()\n\u001b[1;32m     76\u001b[0m     \u001b[39mfor\u001b[39;00m i \u001b[39min\u001b[39;00m \u001b[39mrange\u001b[39m(model\u001b[39m.\u001b[39mnode_count):\n\u001b[1;32m     77\u001b[0m         \u001b[39mif\u001b[39;00m model\u001b[39m.\u001b[39mchildren_left[i] \u001b[39m!=\u001b[39m model\u001b[39m.\u001b[39mchildren_right[i]:\n",
      "\u001b[0;31mAttributeError\u001b[0m: attribute 'threshold' of 'sklearn.tree._tree.Tree' objects is not writable"
     ]
    }
   ],
   "source": [
    "import time\n",
    "\n",
    "\n",
    "co = Coordinator()\n",
    "do = DataOwner()\n",
    "mp = ModelProvider()\n",
    "mp.load_model('iris', 'dt')\n",
    "# mp.train_model()\n",
    "\n",
    "key_0 = str(random.randint(0, 1000))\n",
    "do.ore.key = key_0\n",
    "mp.ore.key = key_0\n",
    "do_encs = do.get_encodings()\n",
    "mp_encs = mp.get_encodings()\n",
    "\n",
    "st = time.time()\n",
    "co.receive_keys(mp_arr=mp_encs, do_arr=do_encs)\n",
    "\n",
    "mp.receive_map(co.mp_map)\n",
    "do.receive_map(co.do_map)\n",
    "\n",
    "# do.dataset = read_rna()\n",
    "# enc_dataset = []\n",
    "# _ys = []\n",
    "# _st = time.time()\n",
    "# _i = 0\n",
    "# for sample in do.dataset:\n",
    "#     _s = sample[:]\n",
    "#     _i += 1\n",
    "#     for i in range(len(_s)-1):\n",
    "#         _v = do.ore.encode(scale_val(_s[i])).x\n",
    "#         _s[i] = OREncoding(do.ore_map[_v])\n",
    "#     enc_dataset.append(_s)\n",
    "#     if _i in _xs:\n",
    "#         _ys.append((time.time()-_st)*1000)\n",
    "#     if _i > _xs[-1]:\n",
    "#         break\n",
    "# ys = [x[-1] for x in enc_dataset]\n",
    "# pred = mp.model.predict(enc_dataset)\n",
    "# str(_ys)"
   ]
  },
  {
   "cell_type": "code",
   "execution_count": 66,
   "metadata": {},
   "outputs": [],
   "source": [
    "class TransDT:\n",
    "    def __init__(self) -> None:\n",
    "        pass\n",
    "\n",
    "    def is_leaf(self, s):\n",
    "        return self.children_left[s] == self.children_right[s]\n",
    "\n",
    "    def predict_single(self, sample):\n",
    "        now = 0\n",
    "        while not self.is_leaf(now):\n",
    "            tar = sample[self.feature[now]]\n",
    "            if tar <= self.threshold[now]:\n",
    "                now = self.children_left[now]\n",
    "            else:\n",
    "                now = self.children_right[now]\n",
    "        return self.values[now]\n",
    "    \n",
    "    def predict(self, xs):\n",
    "        return [self.predict_single(x) for x in xs]\n",
    "\n",
    "\n",
    "def trans_sk_model(model):\n",
    "    n_nodes = model.tree_.node_count\n",
    "    children_left = model.tree_.children_left.tolist()\n",
    "    children_right = model.tree_.children_right.tolist()\n",
    "    feature = model.tree_.feature.tolist()\n",
    "    threshold = model.tree_.threshold.tolist()\n",
    "    values = model.tree_.value.tolist()\n",
    "\n",
    "    classes = model.classes_\n",
    "    def get_cls(s):\n",
    "        idx = max(list(enumerate(s)), key=lambda x: x[1])[0]\n",
    "        return classes[idx]\n",
    "    values = [get_cls(s[0]) for s in values]\n",
    "\n",
    "    ret = TransDT()\n",
    "    ret.n_nodes = n_nodes\n",
    "    ret.children_left = children_left\n",
    "    ret.children_right = children_right\n",
    "    ret.feature = feature\n",
    "    ret.threshold = threshold\n",
    "    ret.values = values\n",
    "\n",
    "    return ret\n"
   ]
  },
  {
   "cell_type": "code",
   "execution_count": 45,
   "metadata": {},
   "outputs": [],
   "source": [
    "md = pickle.load(open('model/iris.dt', 'rb'))"
   ]
  },
  {
   "cell_type": "code",
   "execution_count": 67,
   "metadata": {},
   "outputs": [],
   "source": [
    "m = trans_sk_model(md)"
   ]
  },
  {
   "cell_type": "code",
   "execution_count": 37,
   "metadata": {},
   "outputs": [],
   "source": [
    "ds = read_iris()\n",
    "xs, ys = [x[:-1] for x in ds], [x[-1] for x in ds]"
   ]
  },
  {
   "cell_type": "code",
   "execution_count": 69,
   "metadata": {},
   "outputs": [],
   "source": [
    "r1 = md.predict(xs).tolist()"
   ]
  },
  {
   "cell_type": "code",
   "execution_count": 70,
   "metadata": {},
   "outputs": [],
   "source": [
    "r2 = m.predict(xs)"
   ]
  }
 ],
 "metadata": {
  "kernelspec": {
   "display_name": "Python 3.9.12 ('base')",
   "language": "python",
   "name": "python3"
  },
  "language_info": {
   "codemirror_mode": {
    "name": "ipython",
    "version": 3
   },
   "file_extension": ".py",
   "mimetype": "text/x-python",
   "name": "python",
   "nbconvert_exporter": "python",
   "pygments_lexer": "ipython3",
   "version": "3.9.12"
  },
  "orig_nbformat": 4,
  "vscode": {
   "interpreter": {
    "hash": "afaa4d4e18bd142e5143da94ae0022aa03911ed6b2491709ef134715416f752a"
   }
  }
 },
 "nbformat": 4,
 "nbformat_minor": 2
}
