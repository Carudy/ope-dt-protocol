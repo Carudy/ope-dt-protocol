{
 "cells": [
  {
   "cell_type": "code",
   "execution_count": 1,
   "metadata": {},
   "outputs": [],
   "source": [
    "import random\n",
    "import nacl.encoding\n",
    "import nacl.hash\n",
    "\n",
    "from utils import *\n",
    "from ore import *\n",
    "from bplustree import *\n",
    "from node import *"
   ]
  },
  {
   "cell_type": "code",
   "execution_count": 2,
   "metadata": {},
   "outputs": [],
   "source": [
    "ore = ORE(key='123')"
   ]
  },
  {
   "cell_type": "code",
   "execution_count": 3,
   "metadata": {},
   "outputs": [],
   "source": [
    "A = sorted([random.randint(-434531, 43454) for _ in range(100)])\n",
    "B = [scale_val(x) for x in A]\n",
    "C = [ore.encode(x) for x in B]"
   ]
  },
  {
   "cell_type": "code",
   "execution_count": 4,
   "metadata": {},
   "outputs": [
    {
     "name": "stderr",
     "output_type": "stream",
     "text": [
      "2022-09-27 15:51:48.750 | INFO     | node:receive_keys:28 - All data inserted into tree.\n",
      "2022-09-27 15:51:48.766 | INFO     | node:calc_encoding:38 - All data mapped to encoding.\n"
     ]
    }
   ],
   "source": [
    "co = Coordinator()\n",
    "co.receive_keys(C[:50], C[50:])"
   ]
  },
  {
   "cell_type": "code",
   "execution_count": 5,
   "metadata": {},
   "outputs": [],
   "source": [
    "co.mo_map.update(co.do_map)\n",
    "d = co.mo_map.copy()\n",
    "\n",
    "for i in range(len(C)):\n",
    "    for j in range(i):\n",
    "        x, y = OREncoding(d[C[j].x]), OREncoding(d[C[i].x])\n",
    "        a = ore.compare(C[j], C[i])\n",
    "        b = ore.compare(x, y)\n",
    "        if a != -1 or a != b:\n",
    "            print(i, j)"
   ]
  },
  {
   "cell_type": "code",
   "execution_count": 1,
   "metadata": {},
   "outputs": [],
   "source": [
    "from read_data import *\n",
    "from dtree import *"
   ]
  },
  {
   "cell_type": "code",
   "execution_count": 2,
   "metadata": {},
   "outputs": [],
   "source": [
    "X = read_iris()"
   ]
  },
  {
   "cell_type": "code",
   "execution_count": 3,
   "metadata": {},
   "outputs": [],
   "source": [
    "dt = CartTree()"
   ]
  },
  {
   "cell_type": "code",
   "execution_count": 4,
   "metadata": {},
   "outputs": [],
   "source": [
    "dt.fit(X)"
   ]
  },
  {
   "cell_type": "code",
   "execution_count": 5,
   "metadata": {},
   "outputs": [
    {
     "data": {
      "text/plain": [
       "1.0"
      ]
     },
     "execution_count": 5,
     "metadata": {},
     "output_type": "execute_result"
    }
   ],
   "source": [
    "dt.score(X, [x[-1] for x in X])"
   ]
  }
 ],
 "metadata": {
  "kernelspec": {
   "display_name": "Python 3.9.2 ('base')",
   "language": "python",
   "name": "python3"
  },
  "language_info": {
   "codemirror_mode": {
    "name": "ipython",
    "version": 3
   },
   "file_extension": ".py",
   "mimetype": "text/x-python",
   "name": "python",
   "nbconvert_exporter": "python",
   "pygments_lexer": "ipython3",
   "version": "3.9.2"
  },
  "orig_nbformat": 4,
  "vscode": {
   "interpreter": {
    "hash": "858e1ca6dafc1ec97d0f4d421626c4ad4eb89ad6eac694fd51fec4d40e247f2a"
   }
  }
 },
 "nbformat": 4,
 "nbformat_minor": 2
}
