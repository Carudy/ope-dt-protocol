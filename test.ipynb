{
 "cells": [
  {
   "cell_type": "code",
   "execution_count": 1,
   "metadata": {},
   "outputs": [],
   "source": [
    "import random\n",
    "import nacl.encoding\n",
    "import nacl.hash\n",
    "\n",
    "from utils import *\n",
    "from ore import *"
   ]
  },
  {
   "cell_type": "code",
   "execution_count": 2,
   "metadata": {},
   "outputs": [],
   "source": [
    "ore = ORE(key='123')"
   ]
  },
  {
   "cell_type": "code",
   "execution_count": 3,
   "metadata": {},
   "outputs": [],
   "source": [
    "for _ in range(1000):\n",
    "    x = random.randint(-434534541, 43453454)\n",
    "    y = random.randint(-453254550, 43453454)\n",
    "    a = ore.encode(scale_val(x))\n",
    "    b = ore.encode(scale_val(y))\n",
    "    z = 1 if x>y else -1 if x<y else 0\n",
    "    if z != ore.compare(a, b):\n",
    "        print(x, y, z, ore.compare(a, b))"
   ]
  }
 ],
 "metadata": {
  "kernelspec": {
   "display_name": "Python 3.9.2 ('base')",
   "language": "python",
   "name": "python3"
  },
  "language_info": {
   "codemirror_mode": {
    "name": "ipython",
    "version": 3
   },
   "file_extension": ".py",
   "mimetype": "text/x-python",
   "name": "python",
   "nbconvert_exporter": "python",
   "pygments_lexer": "ipython3",
   "version": "3.9.2"
  },
  "orig_nbformat": 4,
  "vscode": {
   "interpreter": {
    "hash": "858e1ca6dafc1ec97d0f4d421626c4ad4eb89ad6eac694fd51fec4d40e247f2a"
   }
  }
 },
 "nbformat": 4,
 "nbformat_minor": 2
}
