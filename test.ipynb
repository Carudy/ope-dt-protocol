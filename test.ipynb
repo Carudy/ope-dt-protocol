{
 "cells": [
  {
   "cell_type": "code",
   "execution_count": 1,
   "metadata": {},
   "outputs": [],
   "source": [
    "import random\n",
    "import nacl.encoding\n",
    "import nacl.hash\n",
    "\n",
    "from utils import *\n",
    "from ore import *\n",
    "from bplustree import *\n",
    "from node import *\n",
    "from read_data import *\n",
    "from dtree import *"
   ]
  },
  {
   "cell_type": "code",
   "execution_count": 2,
   "metadata": {},
   "outputs": [],
   "source": [
    "def test_ore_encoding_ore():\n",
    "    ore = ORE(key='123')\n",
    "    A = sorted([random.randint(-434531, 43454) for _ in range(100)])\n",
    "    B = [scale_val(x) for x in A]\n",
    "    C = [ore.encode(x) for x in B]\n",
    "    co = Coordinator()\n",
    "    co.receive_keys(C[:50], C[50:])\n",
    "    co.mp_map.update(co.do_map)\n",
    "    d = co.mp_map.copy()\n",
    "\n",
    "    for i in range(len(C)):\n",
    "        for j in range(i):\n",
    "            x, y = OREncoding(d[C[j].x]), OREncoding(d[C[i].x])\n",
    "            a = ore.compare(C[j], C[i])\n",
    "            b = ore.compare(x, y)\n",
    "            if a != -1 or a != b:\n",
    "                print(i, j)"
   ]
  },
  {
   "cell_type": "code",
   "execution_count": 3,
   "metadata": {},
   "outputs": [
    {
     "name": "stdout",
     "output_type": "stream",
     "text": [
      "MP model score: 97.33%\n",
      "All data inserted into tree.\n",
      "All data mapped to encoding.\n",
      "All val in tree are mapped to OREncoding.\n",
      "ACC: 97.33%\n"
     ]
    }
   ],
   "source": [
    "def simulate():\n",
    "    co = Coordinator()\n",
    "    do = DataOwner()\n",
    "    mp = ModelProvider()\n",
    "    mp.train_model()\n",
    "\n",
    "    key_0 = str(random.randint(0, 1000))\n",
    "    do.ore.key = key_0\n",
    "    mp.ore.key = key_0\n",
    "    do_encs = do.get_encodings()\n",
    "    mp_encs = mp.get_encodings()\n",
    "    co.receive_keys(mp_arr=mp_encs, do_arr=do_encs)\n",
    "\n",
    "    mp.receive_map(co.mp_map)\n",
    "    do.receive_map(co.do_map)\n",
    "\n",
    "    enc_dataset = []\n",
    "    for sample in do.dataset:\n",
    "        _s = sample[:]\n",
    "        for i in range(len(_s)-1):\n",
    "            _v = do.ore.encode(scale_val(_s[i])).x\n",
    "            _s[i] = OREncoding(do.ore_map[_v])\n",
    "        enc_dataset.append(_s)\n",
    "\n",
    "    ys = [x[-1] for x in enc_dataset]\n",
    "    pred = mp.model.predict(enc_dataset)\n",
    "    print(f'ACC: {accuracy_score(pred, ys) * 100:.2f}%')\n",
    "\n",
    "# simulate()"
   ]
  },
  {
   "cell_type": "code",
   "execution_count": 12,
   "metadata": {},
   "outputs": [
    {
     "name": "stdout",
     "output_type": "stream",
     "text": [
      "MP model score: 97.33%\n",
      "All data inserted into tree.\n",
      "All data mapped to encoding.\n",
      "0.790ms\n"
     ]
    }
   ],
   "source": [
    "import time\n",
    "\n",
    "\n",
    "co = Coordinator()\n",
    "do = DataOwner()\n",
    "mp = ModelProvider()\n",
    "mp.train_model()\n",
    "\n",
    "key_0 = str(random.randint(0, 1000))\n",
    "do.ore.key = key_0\n",
    "mp.ore.key = key_0\n",
    "do_encs = do.get_encodings()\n",
    "mp_encs = mp.get_encodings()\n",
    "\n",
    "st = time.time()\n",
    "co.receive_keys(mp_arr=mp_encs, do_arr=do_encs)\n",
    "tp = (time.time() - st) * 1000\n",
    "print(f'{tp/len(mp.dataset):.3f}ms')\n",
    "\n",
    "# mp.receive_map(co.mp_map)\n",
    "# do.receive_map(co.do_map)\n",
    "\n",
    "# enc_dataset = []\n",
    "# for sample in do.dataset:\n",
    "#     _s = sample[:]\n",
    "#     for i in range(len(_s)-1):\n",
    "#         _v = do.ore.encode(scale_val(_s[i])).x\n",
    "#         _s[i] = OREncoding(do.ore_map[_v])\n",
    "#     enc_dataset.append(_s)\n",
    "\n",
    "# ys = [x[-1] for x in enc_dataset]\n",
    "# pred = mp.model.predict(enc_dataset)"
   ]
  }
 ],
 "metadata": {
  "kernelspec": {
   "display_name": "Python 3.9.2 ('base')",
   "language": "python",
   "name": "python3"
  },
  "language_info": {
   "codemirror_mode": {
    "name": "ipython",
    "version": 3
   },
   "file_extension": ".py",
   "mimetype": "text/x-python",
   "name": "python",
   "nbconvert_exporter": "python",
   "pygments_lexer": "ipython3",
   "version": "3.9.2"
  },
  "orig_nbformat": 4,
  "vscode": {
   "interpreter": {
    "hash": "858e1ca6dafc1ec97d0f4d421626c4ad4eb89ad6eac694fd51fec4d40e247f2a"
   }
  }
 },
 "nbformat": 4,
 "nbformat_minor": 2
}
